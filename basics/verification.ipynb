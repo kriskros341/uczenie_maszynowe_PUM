{
 "cells": [
  {
   "cell_type": "code",
   "execution_count": null,
   "metadata": {},
   "outputs": [],
   "source": [
    "import matplotlib.pyplot as plt\n",
    "import numpy as np\n",
    "import scipy.linalg as la\n",
    "from sklearn.cluster import KMeans\n",
    "from sklearn.metrics import accuracy_score\n",
    "\n",
    "\n",
    "def verify(record, result):\n",
    "    true_blood = record['anno'].ravel() == 1\n",
    "    uncertain_blood = record['anno'].ravel() == 8\n",
    "    blood = np.logical_or(true_blood, uncertain_blood)\n",
    "    print(f'Accuracy {accuracy_score(result, blood):.2%}')\n",
    "    return accuracy_score(result, blood)\n",
    "\n",
    "\n",
    "if __name__ == '__main__':\n",
    "    fname = 'd01_frame_I300'\n",
    "    #fname = 'd01_comparison_I350'\n",
    "    record = np.load(f'{fname}.npz')\n",
    "    \n",
    "    data = record['data']\n",
    "    X = np.reshape(data, (-1, data.shape[-1]))\n",
    "\n",
    "    n_clusters = 6\n",
    "    clustering = KMeans(n_clusters=n_clusters).fit(X)\n",
    "\n",
    "    best = 0\n",
    "    besti = -1\n",
    "    # blood_label = int(input('Which cluster?'))\n",
    "    for label in range(n_clusters):\n",
    "        result = clustering.labels_ == label\n",
    "        val = verify(record, result)\n",
    "        print(val)\n",
    "        if val > best:\n",
    "            best = val\n",
    "            besti = label\n",
    "    print(best)\n",
    "    print(X[clustering.labels_ == besti])\n",
    "    print(len(X[clustering.labels_ == besti]))\n",
    "\n"
   ]
  }
 ],
 "metadata": {
  "language_info": {
   "name": "python"
  }
 },
 "nbformat": 4,
 "nbformat_minor": 2
}

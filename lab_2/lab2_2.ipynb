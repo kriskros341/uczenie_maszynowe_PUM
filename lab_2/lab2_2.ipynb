{
 "cells": [
  {
   "cell_type": "code",
   "execution_count": null,
   "metadata": {},
   "outputs": [],
   "source": [
    "import numpy as np\n",
    "import scipy.linalg as la\n",
    "import matplotlib.pyplot as plt\n",
    "from sklearn.manifold import TSNE\n",
    "from sklearn.cluster import KMeans\n",
    "\n",
    "# this is lab2_3\n",
    "# add filesystem caching\n",
    "if __name__ == '__main__':\n",
    "    fname = 'd01_frame_I300'\n",
    "    #fname = 'd01_comparison_I350'\n",
    "    record = np.load(f'{fname}.npz')\n",
    "    \n",
    "    data = record['data']\n",
    "    X = np.reshape(data, (-1, data.shape[-1]))\n",
    "\n",
    "    n_components = 2\n",
    "    # pca = TSNE(n_components=n_components).fit(X)\n",
    "    # plt.plot(pca.explained_variance_ratio_)\n",
    "    # plt.show()\n",
    "    \n",
    "    # Odczytaj wyniki z pliku tekstowego\n",
    "    import os\n",
    "\n",
    "    file_path = 'tsne_results.txt'\n",
    "\n",
    "    if os.path.exists(file_path):\n",
    "        print(\"Plik istnieje.\")\n",
    "        pca = np.loadtxt(file_path)\n",
    "    else:\n",
    "        pca = TSNE(n_components=n_components).fit_transform(X)\n",
    "    \n",
    "        # Zapisz wyniki do pliku tekstowego\n",
    "        np.savetxt('tsne_results.txt', pca)\n",
    "\n",
    "    plt.scatter(pca[:, 0], pca[:, 1], c='blue', alpha=0.5)\n",
    "    plt.show()\n",
    "\n",
    "    n_clusters = 6\n",
    "    clustering = KMeans(n_clusters=n_clusters).fit(X)\n",
    "    \n",
    "    plt.figure('All labels')\n",
    "    labels2 = np.reshape(clustering.labels_, data.shape[:2])\n",
    "    plt.imshow(labels2, cmap=plt.cm.tab10)\n",
    "    plt.show()\n",
    "\n",
    "    plt.scatter(pca[:, 0], pca[:, 1], c=labels2, cmap=plt.cm.tab10, label='Normal Samples', edgecolor='k')\n",
    "    plt.title('PCA-Transformed Samples with Anomalies Highlighted')\n",
    "    plt.xlabel('Principal Component 1')\n",
    "    plt.ylabel('Principal Component 2')\n",
    "    plt.legend()\n",
    "    #print(sorted(X_pca, key=lambda i: X_pca[i, 1]))\n",
    "    plt.show()\n",
    "    \n",
    "    "
   ]
  },
  {
   "cell_type": "code",
   "execution_count": null,
   "metadata": {},
   "outputs": [],
   "source": []
  }
 ],
 "metadata": {
  "kernelspec": {
   "display_name": "Python 3",
   "language": "python",
   "name": "python3"
  },
  "language_info": {
   "codemirror_mode": {
    "name": "ipython",
    "version": 3
   },
   "file_extension": ".py",
   "mimetype": "text/x-python",
   "name": "python",
   "nbconvert_exporter": "python",
   "pygments_lexer": "ipython3",
   "version": "3.12.2"
  }
 },
 "nbformat": 4,
 "nbformat_minor": 2
}

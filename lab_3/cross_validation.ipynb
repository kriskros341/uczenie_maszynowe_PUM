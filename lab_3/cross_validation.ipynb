{
 "cells": [
  {
   "cell_type": "code",
   "execution_count": 104,
   "metadata": {},
   "outputs": [
    {
     "name": "stdout",
     "output_type": "stream",
     "text": [
      "[312, 170, 167, 286, 317, 295, 178, 271, 391, 330, 188, 248, 180, 221, 366, 382, 370, 107, 255, 281, 365, 240, 251, 346, 341, 137, 372, 79, 93, 371, 394, 258, 266, 423, 3, 393, 152, 102, 310, 41, 161, 385, 73, 356, 212, 234, 275, 236, 51, 154, 327, 91, 374, 315, 140, 297, 24, 326, 77, 263, 352, 163, 125, 123, 159, 409, 308, 100, 321, 401, 145, 256, 162, 302, 10, 226, 238, 395, 149, 362, 124, 96, 9, 37, 151, 118, 168, 128, 119, 319, 222, 203, 197, 16, 65, 354, 205, 411, 105, 45, 34, 43, 241, 305, 349, 173, 402, 274, 359, 259, 300, 76, 116, 276, 331, 320, 307, 191, 289, 196, 224, 30, 282, 199, 54, 143, 345, 207, 233, 75, 146, 148, 294, 405, 218, 347, 397, 127, 86, 88, 68, 322, 358, 164, 130, 58, 414, 381, 215, 398, 306, 225, 63, 388, 202, 117, 81, 272, 348, 246, 53, 378, 113, 35, 61, 253, 380, 42, 28, 390, 337, 108, 257, 231, 387, 343, 245, 333, 6, 298, 150, 206, 420, 217, 268, 60, 82, 422, 299, 250, 5, 219, 303, 220, 340, 36, 261, 14, 55, 19, 384, 15, 175, 134, 4, 304, 31, 211, 309, 314, 204, 187, 230, 72, 329, 332, 26, 110, 334, 103, 166, 92, 67, 198, 209, 195, 415, 174, 254, 328, 293, 200, 112, 44, 232, 33, 129, 367, 267, 214, 376, 285, 361, 126, 29, 419, 252, 0, 353, 136, 177, 363, 20, 74, 280, 147, 184, 94, 410, 157, 85, 11, 404, 407, 369, 64, 104, 192, 344, 247, 412, 210, 425, 368, 25, 316, 379, 78, 138, 144, 23, 350, 273, 216, 270, 336, 8, 201, 135, 17, 278, 99, 208, 122, 335, 2, 101, 183, 156, 120, 49, 301, 179, 287, 185, 277, 342, 158, 172, 324, 132, 40, 98, 114, 249, 424, 176, 227, 97, 237, 109, 193, 313, 165, 265, 264, 288, 111, 106, 417, 244, 142, 69, 32, 194, 406, 87, 229, 21, 62, 339, 190, 360, 1, 399, 311, 228, 89, 355, 47, 189, 262, 18, 351, 181, 115, 413, 408, 269, 392, 57, 260, 133, 7, 284, 80, 291, 296, 160, 83, 377, 383, 364, 121, 39, 375, 186, 153, 66, 48, 403, 416, 95, 290, 418, 169, 50, 213, 38, 12, 235, 325, 59, 318, 338, 279, 13, 389, 155, 56, 182, 27, 239, 71, 90, 131, 139, 357, 46, 141, 396, 242, 323, 283, 292, 171, 223, 70, 386, 84, 52, 22, 243, 373, 400, 421]\n"
     ]
    }
   ],
   "source": [
    "import warnings\n",
    "warnings.simplefilter(action='ignore', category=FutureWarning)\n",
    "\n",
    "import numpy as np\n",
    "from sklearn.neighbors import KNeighborsClassifier\n",
    "from sklearn.metrics import accuracy_score, precision_recall_curve\n",
    "\n",
    "from numpy.random import shuffle\n",
    "\n",
    "from sklearn.model_selection import train_test_split\n",
    "\n",
    "\n",
    "def loader(fname):\n",
    "    record = np.load(fname, allow_pickle=True)\n",
    "    return record['X'], record['y']\n",
    "\n",
    "\n",
    "def test(clf, fname='test.npz'):\n",
    "    X_test, y_test = loader(fname) \n",
    "    y_predict = clf.predict(X_test)\n",
    "    a = accuracy_score(y_test, y_predict)\n",
    "    print(f'accuracy = {a:.2%}')\n",
    "\n",
    "\n",
    "X, Y = loader('train.npz')\n",
    "\n",
    "g = [i for i, x in enumerate(X)]\n",
    "shuffle(g)\n",
    "print(g)\n",
    "\n",
    "X = X[g]\n",
    "Y = Y[g]\n",
    "\n",
    "g2 = shuffle([x for i, x in enumerate(X)])\n",
    "\n",
    "\n",
    "def zNormalized(data):\n",
    "    mean = np.mean(data)\n",
    "    std_dev = np.std(data)\n",
    "    return (data - mean) / std_dev\n"
   ]
  },
  {
   "cell_type": "code",
   "execution_count": 105,
   "metadata": {},
   "outputs": [
    {
     "name": "stdout",
     "output_type": "stream",
     "text": [
      "[1 0 0 1 1 0 0 1 0 1 1 0 0 0 0 1 0 0 1 1 1 1 1 0 1 1 0 0 0 1 0 1 0 0 0 1 0\n",
      " 1 0 1 0 1 1 0 1 1 0 0 0 1 0 1 0 1 0 1 0 1 0 0 0 0 0 0 0 0 1 1 0 0 1 0 0 0\n",
      " 1 1 1 1 1 0 1 0 0 0 0 1 1 1 0 0 0 0 1 1 0 0 0 0 1 0 1 1 0 0 0 1 0 0 0 0 0\n",
      " 0 0 1 1 1 1 1 1 0 1 1 1 0 0 1 1 1 1 1 1 0 0 0 0 0 1 0 1 0 1 0 0 1 0 0 0 1\n",
      " 1 0 0 0 0 1 1 1 0 1 1 0 0 0 1 1 1 0 0 0 0 0 0 0 1 0 1 0 0 0 0 1 1 1 0 1 0\n",
      " 0 0 0 1 1 0 0 0 1 0 0 0 0 0 1 0 1 0 0 0 0 1 0 0 0 0 1 1 0 0 0 0 1 1 0 0 0\n",
      " 1 1 0 0 1 0 0 0 0 1 0 0 0 1 1 1 1 0 1 1 0 0 0 0 0 0 0 0 0 1 0 0 0 0 0 0 0\n",
      " 0 0 1 0 1 0 0 1 0 0 1 1 1 0 0 1 0 1 0 0 0 0 0 1 1 0 0 0 1 1 1 1 0 0 0 1 0\n",
      " 0 0 0 0 1 1 0 1 1 0 0 1 1 1 1 0 0 0 0 0 0 0 0 0 1 0 1 0 0 0 1 0 1 0 1 0 0\n",
      " 0 0 0 1 0 0 0 0 0 1 1 0 0 1 1 0 1 0 0 0 1 1 0 0 0 1 0 0 0 0 1 1 0 0 0 0 0\n",
      " 1 0 1 0 1 1 1 1 1 1 0 1 1 0 0 0 0 0 0 0 1 0 1 0 1 0 0 0 1 0 1 0 0 1 1 0 0\n",
      " 0 0 0 0 0 0 0 1 0 0 0 0 0 1 1 0 0 0 0]\n"
     ]
    }
   ],
   "source": [
    "print(Y)"
   ]
  },
  {
   "cell_type": "code",
   "execution_count": 106,
   "metadata": {},
   "outputs": [
    {
     "name": "stdout",
     "output_type": "stream",
     "text": [
      "test_size 0.2, nn 5, accuracy = 97.67%\n",
      "test_size 0.2, nn 4, accuracy = 96.51%\n",
      "test_size 0.5, nn 5, accuracy = 96.71%\n",
      "test_size 0.7000000000000001, nn 6, accuracy = 94.98%\n",
      "test_size 0.4, nn 4, accuracy = 97.08%\n",
      "test_size 0.5, nn 7, accuracy = 97.18%\n",
      "test_size 0.4, nn 6, accuracy = 97.08%\n",
      "test_size 0.2, nn 5, accuracy = 96.51%\n",
      "test_size 0.2, nn 5, accuracy = 98.84%\n",
      "test_size 0.2, nn 6, accuracy = 97.67%\n"
     ]
    }
   ],
   "source": [
    "from sklearn.metrics import mean_squared_error\n",
    "X_normalized = zNormalized(X)\n",
    "\n",
    "for _ in range(10):\n",
    "    best_val = \"\"\n",
    "    best_a = 0\n",
    "    for i in range(2, 8, 1):\n",
    "        X_train, X_test, y_train, y_test = train_test_split(X_normalized, Y, test_size=i*0.10)\n",
    "\n",
    "        for y in range(4, 20, 1):\n",
    "            clf = KNeighborsClassifier(n_neighbors=y, weights=\"distance\").fit(X_train, y_train)\n",
    "\n",
    "            y_predict = clf.predict(X_test)\n",
    "            a = accuracy_score(y_test, y_predict)\n",
    "\n",
    "            if a > best_a:\n",
    "                best_val = f'test_size {i*0.10}, nn {y}, accuracy = {a:.2%}'\n",
    "                best_a = a\n",
    "    print(best_val)\n",
    "\n",
    "\n"
   ]
  },
  {
   "cell_type": "code",
   "execution_count": 107,
   "metadata": {},
   "outputs": [
    {
     "data": {
      "text/plain": [
       "<matplotlib.collections.PathCollection at 0x23d9e5e93a0>"
      ]
     },
     "execution_count": 107,
     "metadata": {},
     "output_type": "execute_result"
    },
    {
     "data": {
      "image/png": "[encoded data removed]",
      "text/plain": [
       "<Figure size 640x480 with 1 Axes>"
      ]
     },
     "metadata": {},
     "output_type": "display_data"
    }
   ],
   "source": [
    "import matplotlib.pyplot as plt\n",
    "\n",
    "plt.scatter(X_normalized, X_normalized)"
   ]
  },
  {
   "cell_type": "code",
   "execution_count": 110,
   "metadata": {},
   "outputs": [
    {
     "name": "stdout",
     "output_type": "stream",
     "text": [
      "[88, 3, 103, 39, 136, 52, 16, 130, 64, 110, 37, 81, 5, 109, 107, 36, 20, 115, 96, 0, 82, 121, 32, 61, 122, 141, 4, 86, 21, 97, 99, 44, 17, 94, 42, 104, 116, 2, 124, 68, 117, 90, 98, 106, 27, 23, 55, 131, 105, 74, 71, 50, 134, 12, 38, 29, 89, 48, 56, 139, 45, 75, 40, 92, 79, 31, 127, 91, 24, 73, 78, 19, 67, 13, 108, 57, 6, 135, 7, 54, 102, 33, 65, 47, 100, 22, 1, 128, 137, 133, 11, 72, 76, 138, 69, 49, 43, 70, 83, 77, 34, 123, 119, 125, 118, 142, 18, 140, 132, 30, 15, 66, 111, 58, 129, 25, 93, 9, 62, 114, 95, 126, 112, 63, 101, 53, 113, 26, 41, 8, 46, 84, 35, 28, 59, 14, 10, 51, 80, 120, 60, 87, 85]\n",
      "accuracy 0.8604651162790697\n",
      "precision_score 0.75\n",
      "recall_score 0.9375\n",
      "confusion_matrix [[22  5]\n",
      " [ 1 15]]\n",
      "f1_score 0.8333333333333334\n",
      "accuracy = 35.66%\n"
     ]
    },
    {
     "data": {
      "text/plain": [
       "0.9297658862876255"
      ]
     },
     "execution_count": 110,
     "metadata": {},
     "output_type": "execute_result"
    }
   ],
   "source": [
    "\n",
    "X, Y = loader('test.npz')\n",
    "           \n",
    "from sklearn.metrics import accuracy_score, precision_score, confusion_matrix, recall_score, f1_score\n",
    "g = [i for i, x in enumerate(X)]\n",
    "shuffle(g)\n",
    "print(g)\n",
    "\n",
    "X = X[g]\n",
    "Y = Y[g]\n",
    "\n",
    "def zNormalized(data):\n",
    "    mean = np.mean(data)\n",
    "    \n",
    "    std_dev = np.std(data)\n",
    "    return (data - mean) / std_dev\n",
    "\n",
    "X_normalized = zNormalized(X)\n",
    "\n",
    "X_train, X_test, y_train, y_test = train_test_split(X_normalized, Y, test_size=0.3)\n",
    "cls = KNeighborsClassifier(n_neighbors=8, weights=\"distance\").fit(X_train, y_train)\n",
    "y_predict = clf.predict(X_test)\n",
    "\n",
    "print(\"accuracy\", accuracy_score(y_test, y_predict))\n",
    "print(\"precision_score\", precision_score(y_test, y_predict))\n",
    "print(\"recall_score\", recall_score(y_test, y_predict))\n",
    "print(\"confusion_matrix\", confusion_matrix(y_test, y_predict))\n",
    "print(\"f1_score\", f1_score(y_test, y_predict))\n",
    "test(cls)\n",
    "a"
   ]
  },
  {
   "cell_type": "code",
   "execution_count": 109,
   "metadata": {},
   "outputs": [
    {
     "name": "stdout",
     "output_type": "stream",
     "text": [
      "[[-0.1890425201250102 -0.1744006965287316 0.29846048266156033 ...\n",
      "  -0.27572769365253985 -0.27512389273661714 -0.27613515468633343]\n",
      " [-0.21293425767576316 -0.20061653306302088 0.13140424772497242 ...\n",
      "  -0.27611702671426186 -0.2752173215157553 -0.2761598830995182]\n",
      " [-0.21990655462637201 -0.21107497848893414 0.08255168709103976 ...\n",
      "  -0.27643552123896564 -0.2754557740714661 -0.2762409941540437]\n",
      " ...\n",
      " [-0.22520550030883474 -0.1982924340794846 0.05312859395947043 ...\n",
      "  -0.2761761982743827 -0.2751280761147875 -0.27615528138353085]\n",
      " [-0.20740290209494683 -0.1990361457542162 0.18197664160672192 ...\n",
      "  -0.27557941613739023 -0.27485522689412034 -0.27602657278182263]\n",
      " [-0.1914131010882172 -0.18086169170296248 0.28498070855704993 ...\n",
      "  -0.2758197279722879 -0.27509274981023774 -0.27615611805916496]]\n"
     ]
    }
   ],
   "source": [
    "print(X_normalized)"
   ]
  },
  {
   "cell_type": "code",
   "execution_count": 113,
   "metadata": {},
   "outputs": [
    {
     "name": "stdout",
     "output_type": "stream",
     "text": [
      "Best Hyperparameters: {'n_neighbors': 7, 'weights': 'uniform'}\n",
      "Best Mean Cross-Validated Score: 0.9800000000000001\n"
     ]
    }
   ],
   "source": [
    "# Dobieranie hiperparametrów\n",
    "\n",
    "from sklearn.model_selection import GridSearchCV\n",
    "from sklearn.neighbors import KNeighborsClassifier\n",
    "from sklearn.datasets import load_iris\n",
    "\n",
    "# Load iris dataset (or any other dataset of your choice)\n",
    "iris = load_iris()\n",
    "X, y = iris.data, iris.target\n",
    "\n",
    "# Define hyperparameter grid\n",
    "param_grid = {'n_neighbors': [3, 5, 7, 9], 'weights': ['uniform', 'distance']}\n",
    "\n",
    "# Initialize KNN classifier\n",
    "knn = KNeighborsClassifier()\n",
    "\n",
    "# Initialize GridSearchCV with the KNN classifier and hyperparameter grid\n",
    "grid_search = GridSearchCV(knn, param_grid, cv=5, scoring='accuracy')\n",
    "GridSearchCV\n",
    "# Perform grid search\n",
    "grid_search.fit(X, y)\n",
    "\n",
    "# Get the best hyperparameters\n",
    "best_params = grid_search.best_params_\n",
    "print(\"Best Hyperparameters:\", best_params)\n",
    "\n",
    "# Get the best mean cross-validated score\n",
    "best_score = grid_search.best_score_\n",
    "print(\"Best Mean Cross-Validated Score:\", best_score)"
   ]
  },
  {
   "cell_type": "code",
   "execution_count": 114,
   "metadata": {},
   "outputs": [
    {
     "name": "stdout",
     "output_type": "stream",
     "text": [
      "Cross-Validation Scores: [0.96666667 1.         0.93333333 0.96666667 1.        ]\n",
      "Mean Score: 0.9733333333333334\n"
     ]
    }
   ],
   "source": [
    "# cross_val_score to wynik pojedynczej komórki GridSearchCV. \n",
    "from sklearn.model_selection import cross_val_score\n",
    "from sklearn.neighbors import KNeighborsClassifier\n",
    "from sklearn.datasets import load_iris\n",
    "\n",
    "# Load iris dataset (or any other dataset of your choice)\n",
    "iris = load_iris()\n",
    "X, y = iris.data, iris.target\n",
    "\n",
    "# Initialize KNN classifier\n",
    "knn = KNeighborsClassifier(n_neighbors=5)\n",
    "\n",
    "# Perform cross-validation\n",
    "cv_scores = cross_val_score(knn, X, y, cv=5, scoring='accuracy')\n",
    "\n",
    "# Print scores for each fold\n",
    "print(\"Cross-Validation Scores:\", cv_scores)\n",
    "\n",
    "# Compute and print mean score\n",
    "mean_score = cv_scores.mean()\n",
    "print(\"Mean Score:\", mean_score)"
   ]
  },
  {
   "cell_type": "code",
   "execution_count": null,
   "metadata": {},
   "outputs": [],
   "source": []
  }
 ],
 "metadata": {
  "kernelspec": {
   "display_name": ".venv",
   "language": "python",
   "name": "python3"
  },
  "language_info": {
   "codemirror_mode": {
    "name": "ipython",
    "version": 3
   },
   "file_extension": ".py",
   "mimetype": "text/x-python",
   "name": "python",
   "nbconvert_exporter": "python",
   "pygments_lexer": "ipython3",
   "version": "3.9.13"
  }
 },
 "nbformat": 4,
 "nbformat_minor": 2
}

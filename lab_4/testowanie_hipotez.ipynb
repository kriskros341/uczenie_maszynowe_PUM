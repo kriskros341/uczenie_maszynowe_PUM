{
 "cells": [
  {
   "cell_type": "code",
   "execution_count": 13,
   "metadata": {},
   "outputs": [
    {
     "name": "stdout",
     "output_type": "stream",
     "text": [
      "Hipoteza 0: rozkład normalny?\n",
      "Przyjmujemy, 0.9021529638996092\n",
      "0.17045272926623423\n"
     ]
    }
   ],
   "source": [
    "import numpy as np\n",
    "from scipy.stats import shapiro\n",
    "\n",
    "from scipy.stats import ttest_ind\n",
    "import numpy as np\n",
    "\n",
    "\n",
    "x = np.array([179, 174, 181, 172, 116, 167, 103, 154, 123, 126, 161, 151, 100,\n",
    "              143, 192])\n",
    "y = np.array([185, 182, 195, 188, 139, 191, 131, 183, 164,  78, 210, 207, 160,\n",
    "              76, 267])\n",
    "\n",
    "d = x - y\n",
    "result = shapiro(d)\n",
    "print(\"Hipoteza 0: rozkład normalny?\")\n",
    "if 1 - result.pvalue < 0.05:\n",
    "    print(f\"Odrzucamy, {1 - result.pvalue}\")\n",
    "    \n",
    "    from scipy.stats import mannwhitneyu\n",
    "\n",
    "    statistic, p_value = mannwhitneyu(x, y, alternative='less')\n",
    "\n",
    "    # Print the results\n",
    "    print(\"Mann-Whitney U Test Statistic:\", statistic)\n",
    "    print(\"p-value:\", p_value)\n",
    "\n",
    "    # Interpret the results\n",
    "    alpha = 0.05\n",
    "    if p_value < alpha:\n",
    "        print(\"Reject the null hypothesis: Series 1 is consistently higher than Series 2.\")\n",
    "    else:\n",
    "        print(\"Fail to reject the null hypothesis: Series 1 is not consistently higher than Series 2.\")\n",
    "else:\n",
    "    print(f\"Przyjmujemy, {1 - result.pvalue}\")\n",
    "    \n",
    "    # Perform independent samples t-test\n",
    "    t_statistic, p_value = ttest_ind(x, y)\n",
    "    print(p_value)\n"
   ]
  },
  {
   "cell_type": "code",
   "execution_count": null,
   "metadata": {},
   "outputs": [],
   "source": []
  }
 ],
 "metadata": {
  "kernelspec": {
   "display_name": ".venv",
   "language": "python",
   "name": "python3"
  },
  "language_info": {
   "codemirror_mode": {
    "name": "ipython",
    "version": 3
   },
   "file_extension": ".py",
   "mimetype": "text/x-python",
   "name": "python",
   "nbconvert_exporter": "python",
   "pygments_lexer": "ipython3",
   "version": "3.9.13"
  }
 },
 "nbformat": 4,
 "nbformat_minor": 2
}

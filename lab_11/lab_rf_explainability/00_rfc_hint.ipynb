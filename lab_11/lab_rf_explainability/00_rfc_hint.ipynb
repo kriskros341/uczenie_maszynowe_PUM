{
 "cells": [
  {
   "cell_type": "markdown",
   "metadata": {},
   "source": [
    "Datasets are often messy with missing or categorical (text encoded) values"
   ]
  },
  {
   "cell_type": "code",
   "execution_count": 1,
   "metadata": {},
   "outputs": [
    {
     "name": "stdout",
     "output_type": "stream",
     "text": [
      "   normal column  nan column categorical column\n",
      "0            1.0         NaN                  a\n",
      "1            2.5         1.1                  b\n",
      "2            3.2         2.3                  a\n",
      "3            4.1         NaN                  b\n",
      "4            5.6         4.5                  a\n",
      "   normal column  nan column categorical column\n",
      "0            1.0         2.3                  0\n",
      "1            2.5         1.1                  1\n",
      "2            3.2         2.3                  0\n",
      "3            4.1         2.3                  1\n",
      "4            5.6         4.5                  0\n"
     ]
    }
   ],
   "source": [
    "import pandas as pd\n",
    "import numpy as np\n",
    "from sklearn.preprocessing import LabelEncoder\n",
    "\n",
    "pd.set_option('future.no_silent_downcasting', True)\n",
    "\n",
    "df_problematic = pd.DataFrame({\n",
    "    'normal column': [1.0, 2.5, 3.2, 4.1, 5.6],\n",
    "    'nan column': [np.nan, 1.1, 2.3, np.nan, 4.5],\n",
    "    'categorical column': ['a', 'b', 'a', 'b', 'a']\n",
    "})\n",
    "\n",
    "print(df_problematic)\n",
    "\n",
    "for column in ['categorical column']:\n",
    "    df_problematic.loc[:,column] = LabelEncoder().fit_transform(df_problematic[column])\n",
    "df_problematic = df_problematic.fillna(df_problematic.median())\n",
    "\n",
    "print(df_problematic)\n",
    "\n",
    "\n"
   ]
  }
 ],
 "metadata": {
  "kernelspec": {
   "display_name": "py311ML",
   "language": "python",
   "name": "python3"
  },
  "language_info": {
   "codemirror_mode": {
    "name": "ipython",
    "version": 3
   },
   "file_extension": ".py",
   "mimetype": "text/x-python",
   "name": "python",
   "nbconvert_exporter": "python",
   "pygments_lexer": "ipython3",
   "version": "3.11.8"
  }
 },
 "nbformat": 4,
 "nbformat_minor": 2
}

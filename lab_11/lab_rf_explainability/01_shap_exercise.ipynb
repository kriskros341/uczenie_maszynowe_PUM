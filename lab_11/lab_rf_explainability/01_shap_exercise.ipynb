{
 "cells": [
  {
   "cell_type": "markdown",
   "metadata": {},
   "source": [
    "- Plot SHAP beeswarm plot for Titanic train data\n",
    "- Remember about removing  'Survived' column :)"
   ]
  },
  {
   "cell_type": "code",
   "execution_count": 6,
   "metadata": {},
   "outputs": [],
   "source": [
    "!pip install shap"
   ]
  },
  {
   "cell_type": "code",
   "execution_count": 7,
   "metadata": {},
   "outputs": [
    {
     "ename": "ModuleNotFoundError",
     "evalue": "No module named 'shap'",
     "output_type": "error",
     "traceback": [
      "\u001b[1;31m---------------------------------------------------------------------------\u001b[0m",
      "\u001b[1;31mModuleNotFoundError\u001b[0m                       Traceback (most recent call last)",
      "Cell \u001b[1;32mIn[7], line 6\u001b[0m\n\u001b[0;32m      4\u001b[0m \u001b[38;5;28;01mfrom\u001b[39;00m \u001b[38;5;21;01msklearn\u001b[39;00m\u001b[38;5;21;01m.\u001b[39;00m\u001b[38;5;21;01mpreprocessing\u001b[39;00m \u001b[38;5;28;01mimport\u001b[39;00m LabelEncoder\n\u001b[0;32m      5\u001b[0m \u001b[38;5;28;01mimport\u001b[39;00m \u001b[38;5;21;01mmatplotlib\u001b[39;00m\u001b[38;5;21;01m.\u001b[39;00m\u001b[38;5;21;01mpyplot\u001b[39;00m \u001b[38;5;28;01mas\u001b[39;00m \u001b[38;5;21;01mplt\u001b[39;00m\n\u001b[1;32m----> 6\u001b[0m \u001b[38;5;28;01mimport\u001b[39;00m \u001b[38;5;21;01mshap\u001b[39;00m\n\u001b[0;32m      7\u001b[0m \u001b[38;5;28;01mfrom\u001b[39;00m \u001b[38;5;21;01msklearn\u001b[39;00m\u001b[38;5;21;01m.\u001b[39;00m\u001b[38;5;21;01mutils\u001b[39;00m \u001b[38;5;28;01mimport\u001b[39;00m shuffle\n\u001b[0;32m     10\u001b[0m pd\u001b[38;5;241m.\u001b[39mset_option(\u001b[38;5;124m\"\u001b[39m\u001b[38;5;124mdisplay.max_rows\u001b[39m\u001b[38;5;124m\"\u001b[39m, \u001b[38;5;241m1500\u001b[39m)\n",
      "\u001b[1;31mModuleNotFoundError\u001b[0m: No module named 'shap'"
     ]
    }
   ],
   "source": [
    "import pandas as pd\n",
    "from sklearn.ensemble import RandomForestClassifier\n",
    "from sklearn.model_selection import cross_val_score\n",
    "from sklearn.preprocessing import LabelEncoder\n",
    "import matplotlib.pyplot as plt\n",
    "import shap\n",
    "from sklearn.utils import shuffle\n",
    "\n",
    "\n",
    "pd.set_option(\"display.max_rows\", 1500)\n",
    "pd.set_option(\"display.max_columns\", 1500)\n",
    "pd.set_option(\"display.width\", 1500)\n",
    "\n",
    "pd.set_option('future.no_silent_downcasting', True)\n",
    "\n",
    "\n",
    "le = LabelEncoder()\n",
    "df = pd.read_csv('data/titanic_train.csv')\n",
    "# Apply LabelEncoder to each column\n",
    "for column in [\"Sex\", \"Embarked\", \"Ticket\", \"Cabin\"]:\n",
    "    df[column] = le.fit_transform(df[column])\n",
    "del df[\"Name\"]\n",
    "y = pd.Series(data=df['Survived'].to_numpy())\n",
    "del df[\"Survived\"]\n",
    "\n",
    "df_iris, y = shuffle(df, y, random_state=42)\n",
    "\n",
    "# CV experiment\n",
    "cls = RandomForestClassifier(n_estimators=100, random_state=42,max_depth=2) \n",
    "#global fit!\n",
    "cls.fit(df_iris, y)\n",
    "\n",
    "# Initialize the JS visualization in the notebook if using Jupyter\n",
    "shap.initjs()\n",
    "\n",
    "# Create a SHAP explainer object for the RandomForest model\n",
    "explainer = shap.TreeExplainer(cls)\n",
    "base_value = explainer.expected_value\n",
    "print ('base value',base_value)\n",
    "\n",
    "# Calculate SHAP values for the training set\n",
    "shap_values = explainer(df_iris)\n",
    "\n",
    "#print (shap_values)\n",
    "# Plot the SHAP values with a beeswarm plot\n",
    "shap.plots.beeswarm(shap_values[:,:,1])\n",
    "plt.show()\n",
    "\n"
   ]
  },
  {
   "cell_type": "markdown",
   "metadata": {},
   "source": [
    "Plot SHAP heatmap plot for Titanic train data"
   ]
  },
  {
   "cell_type": "code",
   "execution_count": null,
   "metadata": {},
   "outputs": [],
   "source": [
    "import pandas as pd\n",
    "from sklearn.ensemble import RandomForestClassifier\n",
    "from sklearn.model_selection import cross_val_score\n",
    "from sklearn.preprocessing import LabelEncoder\n",
    "import matplotlib.pyplot as plt\n",
    "import shap\n",
    "\n",
    "pd.set_option(\"display.max_rows\", 1500)\n",
    "pd.set_option(\"display.max_columns\", 1500)\n",
    "pd.set_option(\"display.width\", 1500)\n",
    "\n",
    "pd.set_option('future.no_silent_downcasting', True)"
   ]
  }
 ],
 "metadata": {
  "kernelspec": {
   "display_name": "py311ML",
   "language": "python",
   "name": "python3"
  },
  "language_info": {
   "codemirror_mode": {
    "name": "ipython",
    "version": 3
   },
   "file_extension": ".py",
   "mimetype": "text/x-python",
   "name": "python",
   "nbconvert_exporter": "python",
   "pygments_lexer": "ipython3",
   "version": "3.9.13"
  }
 },
 "nbformat": 4,
 "nbformat_minor": 2
}
